{
 "cells": [
  {
   "cell_type": "markdown",
   "metadata": {
    "id": "W_tvPdyfA-BL"
   },
   "source": [
    "##### Copyright 2018 The TensorFlow Authors."
   ]
  },
  {
   "cell_type": "code",
   "execution_count": 36,
   "metadata": {
    "cellView": "form",
    "execution": {
     "iopub.execute_input": "2021-06-22T01:23:00.595286Z",
     "iopub.status.busy": "2021-06-22T01:23:00.594693Z",
     "iopub.status.idle": "2021-06-22T01:23:00.596537Z",
     "shell.execute_reply": "2021-06-22T01:23:00.596907Z"
    },
    "id": "0O_LFhwSBCjm"
   },
   "outputs": [],
   "source": [
    "#@title Licensed under the Apache License, Version 2.0 (the \"License\");\n",
    "# you may not use this file except in compliance with the License.\n",
    "# You may obtain a copy of the License at\n",
    "#\n",
    "# https://www.apache.org/licenses/LICENSE-2.0\n",
    "#\n",
    "# Unless required by applicable law or agreed to in writing, software\n",
    "# distributed under the License is distributed on an \"AS IS\" BASIS,\n",
    "# WITHOUT WARRANTIES OR CONDITIONS OF ANY KIND, either express or implied.\n",
    "# See the License for the specific language governing permissions and\n",
    "# limitations under the License."
   ]
  },
  {
   "cell_type": "markdown",
   "metadata": {
    "id": "PWUmcKKjtwXL"
   },
   "source": [
    "# Transfer learning with TensorFlow Hub\n",
    "\n",
    "<table class=\"tfo-notebook-buttons\" align=\"left\">\n",
    "  <td>\n",
    "    <a target=\"_blank\" href=\"https://www.tensorflow.org/tutorials/images/transfer_learning_with_hub\"><img src=\"https://www.tensorflow.org/images/tf_logo_32px.png\" />View on TensorFlow.org</a>\n",
    "  </td>\n",
    "  <td>\n",
    "    <a target=\"_blank\" href=\"https://colab.research.google.com/github/tensorflow/docs/blob/master/site/en/tutorials/images/transfer_learning_with_hub.ipynb\"><img src=\"https://www.tensorflow.org/images/colab_logo_32px.png\" />Run in Google Colab</a>\n",
    "  </td>\n",
    "  <td>\n",
    "    <a target=\"_blank\" href=\"https://github.com/tensorflow/docs/blob/master/site/en/tutorials/images/transfer_learning_with_hub.ipynb\"><img src=\"https://www.tensorflow.org/images/GitHub-Mark-32px.png\" />View on GitHub</a>\n",
    "  </td>\n",
    "  <td>\n",
    "    <a href=\"https://storage.googleapis.com/tensorflow_docs/docs/site/en/tutorials/images/transfer_learning_with_hub.ipynb\"><img src=\"https://www.tensorflow.org/images/download_logo_32px.png\" />Download notebook</a>\n",
    "  </td>\n",
    "  <td>\n",
    "    <a href=\"https://tfhub.dev/google/tf2-preview/mobilenet_v2/feature_vector/4\"><img src=\"https://www.tensorflow.org/images/hub_logo_32px.png\" />See TF Hub model</a>\n",
    "  </td>\n",
    "</table>"
   ]
  },
  {
   "cell_type": "markdown",
   "metadata": {
    "id": "crU-iluJIEzw"
   },
   "source": [
    "[TensorFlow Hub](https://tfhub.dev/) is a repository of pre-trained TensorFlow models.\n",
    "\n",
    "This tutorial demonstrates how to:\n",
    "\n",
    "1. Use models from TensorFlow Hub with `tf.keras`\n",
    "1. Use an image classification model from TensorFlow Hub\n",
    "1. Do simple transfer learning to fine-tune a model for your own image classes"
   ]
  },
  {
   "cell_type": "markdown",
   "metadata": {
    "id": "CKFUvuEho9Th"
   },
   "source": [
    "## Setup"
   ]
  },
  {
   "cell_type": "code",
   "execution_count": 1,
   "metadata": {
    "execution": {
     "iopub.execute_input": "2021-06-22T01:23:00.604102Z",
     "iopub.status.busy": "2021-06-22T01:23:00.603456Z",
     "iopub.status.idle": "2021-06-22T01:23:02.433323Z",
     "shell.execute_reply": "2021-06-22T01:23:02.433747Z"
    },
    "id": "OGNpmn43C0O6"
   },
   "outputs": [],
   "source": [
    "import numpy as np\n",
    "import time\n",
    "\n",
    "import PIL.Image as Image\n",
    "import matplotlib.pyplot as plt\n",
    "\n",
    "import tensorflow as tf\n",
    "import tensorflow_hub as hub"
   ]
  },
  {
   "cell_type": "markdown",
   "metadata": {
    "id": "s4YuF5HvpM1W"
   },
   "source": [
    "## An ImageNet classifier\n",
    "\n",
    "You'll start by using a pretrained classifer model to take an image and predict what it's an image of - no training required!"
   ]
  },
  {
   "cell_type": "markdown",
   "metadata": {
    "id": "amfzqn1Oo7Om"
   },
   "source": [
    "## Simple transfer learning"
   ]
  },
  {
   "cell_type": "markdown",
   "metadata": {
    "id": "K-nIpVJ94xrw"
   },
   "source": [
    "But what if you want to train a classifier for a dataset with different classes? You can also use a model from TFHub to train a custom image classier by retraining the top layer of the model to recognize the classes in our dataset."
   ]
  },
  {
   "cell_type": "markdown",
   "metadata": {
    "id": "Z93vvAdGxDMD"
   },
   "source": [
    "### Dataset\n",
    "\n",
    " For this example you will use the TensorFlow flowers dataset:"
   ]
  },
  {
   "cell_type": "code",
   "execution_count": 2,
   "metadata": {
    "execution": {
     "iopub.execute_input": "2021-06-22T01:23:14.786692Z",
     "iopub.status.busy": "2021-06-22T01:23:14.785793Z",
     "iopub.status.idle": "2021-06-22T01:23:23.936886Z",
     "shell.execute_reply": "2021-06-22T01:23:23.936359Z"
    },
    "id": "DrIUV3V0xDL_"
   },
   "outputs": [],
   "source": [
    "#data_root = 'C:/hpcc-data/dropzone/ahs-yes-no'\n",
    "data_root = 'C:/Work/ML/Carina/open-set/images/faces/students'"
   ]
  },
  {
   "cell_type": "markdown",
   "metadata": {
    "id": "jFHdp18ccah7"
   },
   "source": [
    "Let's load this data into our model using  images off disk using image_dataset_from_directory."
   ]
  },
  {
   "cell_type": "code",
   "execution_count": 3,
   "metadata": {
    "execution": {
     "iopub.execute_input": "2021-06-22T01:23:23.942437Z",
     "iopub.status.busy": "2021-06-22T01:23:23.941732Z",
     "iopub.status.idle": "2021-06-22T01:23:24.068055Z",
     "shell.execute_reply": "2021-06-22T01:23:24.068441Z"
    },
    "id": "mqnsczfLgcwv"
   },
   "outputs": [
    {
     "name": "stdout",
     "output_type": "stream",
     "text": [
      "Found 1357 files belonging to 7 classes.\n",
      "Using 1086 files for training.\n"
     ]
    }
   ],
   "source": [
    "batch_size = 32\n",
    "img_height = 224\n",
    "img_width = 224\n",
    "\n",
    "train_ds = tf.keras.preprocessing.image_dataset_from_directory(\n",
    "  data_root,\n",
    "  validation_split=0.2,\n",
    "  subset=\"training\",\n",
    "  seed=123,\n",
    "  image_size=(img_height, img_width),\n",
    "  batch_size=batch_size)"
   ]
  },
  {
   "cell_type": "markdown",
   "metadata": {
    "id": "cCrSRlomEIZ4"
   },
   "source": [
    "The students dataset has number of students classes."
   ]
  },
  {
   "cell_type": "code",
   "execution_count": 4,
   "metadata": {
    "execution": {
     "iopub.execute_input": "2021-06-22T01:23:24.072492Z",
     "iopub.status.busy": "2021-06-22T01:23:24.071850Z",
     "iopub.status.idle": "2021-06-22T01:23:24.074593Z",
     "shell.execute_reply": "2021-06-22T01:23:24.074137Z"
    },
    "id": "AFgDHs6VEFRD"
   },
   "outputs": [
    {
     "name": "stdout",
     "output_type": "stream",
     "text": [
      "['s123450' 's123452' 's123454' 's123455' 's123456' 's123457' 'x4']\n"
     ]
    }
   ],
   "source": [
    "class_names = np.array(train_ds.class_names)\n",
    "# index 0 is 'no' and index 1 is 'yes'\n",
    "# These will be used in the final prediction\n",
    "print(class_names)"
   ]
  },
  {
   "cell_type": "markdown",
   "metadata": {
    "id": "L0Btd0V3C8h4"
   },
   "source": [
    "TensorFlow Hub's conventions for image models is to expect float inputs in the `[0, 1]` range. Use the `Rescaling` layer to achieve this."
   ]
  },
  {
   "cell_type": "markdown",
   "metadata": {
    "id": "Rs6gfO-ApTQW"
   },
   "source": [
    "Note: you could also include the `Rescaling` layer inside the model. See this [guide](https://www.tensorflow.org/guide/keras/preprocessing_layers) for a discussion of the tradeoffs."
   ]
  },
  {
   "cell_type": "code",
   "execution_count": 5,
   "metadata": {
    "execution": {
     "iopub.execute_input": "2021-06-22T01:23:24.081315Z",
     "iopub.status.busy": "2021-06-22T01:23:24.080676Z",
     "iopub.status.idle": "2021-06-22T01:23:24.099697Z",
     "shell.execute_reply": "2021-06-22T01:23:24.100129Z"
    },
    "id": "8NzDDWEMCL20"
   },
   "outputs": [],
   "source": [
    "normalization_layer = tf.keras.layers.experimental.preprocessing.Rescaling(1./255)\n",
    "train_ds = train_ds.map(lambda x, y: (normalization_layer(x), y))"
   ]
  },
  {
   "cell_type": "markdown",
   "metadata": {
    "id": "IW-BUJ-NC7y-"
   },
   "source": [
    "Let's make sure to use buffered prefetching so we can yield data from disk without having I/O become blocking. These are two important methods you should use when loading data.\n",
    "\n",
    "Interested readers can learn more about both methods, as well as how to cache data to disk in the [data performance guide](https://www.tensorflow.org/guide/data_performance#prefetching)."
   ]
  },
  {
   "cell_type": "code",
   "execution_count": 9,
   "metadata": {
    "execution": {
     "iopub.execute_input": "2021-06-22T01:23:24.104220Z",
     "iopub.status.busy": "2021-06-22T01:23:24.103575Z",
     "iopub.status.idle": "2021-06-22T01:23:24.106825Z",
     "shell.execute_reply": "2021-06-22T01:23:24.106412Z"
    },
    "id": "ZmJMKFw7C4ki"
   },
   "outputs": [],
   "source": [
    "# Disable this will allow training without cache\n",
    "# AUTOTUNE = tf.data.AUTOTUNE\n",
    "# train_ds = train_ds.cache().prefetch(buffer_size=AUTOTUNE)"
   ]
  },
  {
   "cell_type": "code",
   "execution_count": 6,
   "metadata": {
    "execution": {
     "iopub.execute_input": "2021-06-22T01:23:24.110533Z",
     "iopub.status.busy": "2021-06-22T01:23:24.109976Z",
     "iopub.status.idle": "2021-06-22T01:23:24.276391Z",
     "shell.execute_reply": "2021-06-22T01:23:24.276752Z"
    },
    "id": "m0JyiEZ0imgf"
   },
   "outputs": [
    {
     "name": "stdout",
     "output_type": "stream",
     "text": [
      "(32, 224, 224, 3)\n",
      "(32,)\n"
     ]
    }
   ],
   "source": [
    "for image_batch, labels_batch in train_ds:\n",
    "  print(image_batch.shape)\n",
    "  print(labels_batch.shape)\n",
    "  break"
   ]
  },
  {
   "cell_type": "markdown",
   "metadata": {
    "id": "JzV457OXreQP"
   },
   "source": [
    "### Download the headless model\n",
    "\n",
    "TensorFlow Hub also distributes models without the top classification layer. These can be used to easily do transfer learning.\n",
    "\n",
    "Any [compatible image feature vector model](https://tfhub.dev/s?module-type=image-feature-vector&q=tf2) from TensorFlow Hub will work here."
   ]
  },
  {
   "cell_type": "code",
   "execution_count": 7,
   "metadata": {
    "execution": {
     "iopub.execute_input": "2021-06-22T01:23:28.396283Z",
     "iopub.status.busy": "2021-06-22T01:23:28.395701Z",
     "iopub.status.idle": "2021-06-22T01:23:28.397538Z",
     "shell.execute_reply": "2021-06-22T01:23:28.397894Z"
    },
    "id": "4bw8Jf94DSnP"
   },
   "outputs": [],
   "source": [
    "feature_extractor_model = \"https://tfhub.dev/google/tf2-preview/mobilenet_v2/feature_vector/4\" #@param {type:\"string\"}"
   ]
  },
  {
   "cell_type": "markdown",
   "metadata": {
    "id": "sgwmHugQF-PD"
   },
   "source": [
    "Create the feature extractor. Use `trainable=False` to freeze the variables in the feature extractor layer, so that the training only modifies the new classifier layer."
   ]
  },
  {
   "cell_type": "code",
   "execution_count": 9,
   "metadata": {
    "execution": {
     "iopub.execute_input": "2021-06-22T01:23:28.401620Z",
     "iopub.status.busy": "2021-06-22T01:23:28.401023Z",
     "iopub.status.idle": "2021-06-22T01:23:29.730216Z",
     "shell.execute_reply": "2021-06-22T01:23:29.729655Z"
    },
    "id": "5wB030nezBwI"
   },
   "outputs": [],
   "source": [
    "# Remove the <User>\\AppData\\Local\\Temp\\tfhub_modules if this fails\n",
    "feature_extractor_layer = hub.KerasLayer(\n",
    "    feature_extractor_model, input_shape=(224, 224, 3), trainable=False)"
   ]
  },
  {
   "cell_type": "markdown",
   "metadata": {
    "id": "0QzVdu4ZhcDE"
   },
   "source": [
    "It returns a 1280-length vector for each image:"
   ]
  },
  {
   "cell_type": "code",
   "execution_count": 10,
   "metadata": {
    "execution": {
     "iopub.execute_input": "2021-06-22T01:23:29.735553Z",
     "iopub.status.busy": "2021-06-22T01:23:29.734422Z",
     "iopub.status.idle": "2021-06-22T01:23:30.069009Z",
     "shell.execute_reply": "2021-06-22T01:23:30.068533Z"
    },
    "id": "Of7i-35F09ls"
   },
   "outputs": [
    {
     "name": "stdout",
     "output_type": "stream",
     "text": [
      "(32, 1280)\n"
     ]
    }
   ],
   "source": [
    "feature_batch = feature_extractor_layer(image_batch)\n",
    "print(feature_batch.shape)"
   ]
  },
  {
   "cell_type": "markdown",
   "metadata": {
    "id": "RPVeouTksO9q"
   },
   "source": [
    "### Attach a classification head\n",
    "\n",
    "Now wrap the hub layer in a `tf.keras.Sequential` model, and add a new classification layer."
   ]
  },
  {
   "cell_type": "code",
   "execution_count": 11,
   "metadata": {
    "execution": {
     "iopub.execute_input": "2021-06-22T01:23:30.076709Z",
     "iopub.status.busy": "2021-06-22T01:23:30.076066Z",
     "iopub.status.idle": "2021-06-22T01:23:30.270355Z",
     "shell.execute_reply": "2021-06-22T01:23:30.270686Z"
    },
    "id": "vQq_kCWzlqSu"
   },
   "outputs": [
    {
     "name": "stdout",
     "output_type": "stream",
     "text": [
      "Model: \"sequential\"\n",
      "_________________________________________________________________\n",
      "Layer (type)                 Output Shape              Param #   \n",
      "=================================================================\n",
      "keras_layer (KerasLayer)     (None, 1280)              2257984   \n",
      "_________________________________________________________________\n",
      "dense (Dense)                (None, 7)                 8967      \n",
      "=================================================================\n",
      "Total params: 2,266,951\n",
      "Trainable params: 8,967\n",
      "Non-trainable params: 2,257,984\n",
      "_________________________________________________________________\n"
     ]
    }
   ],
   "source": [
    "num_classes = len(class_names)\n",
    "\n",
    "model = tf.keras.Sequential([\n",
    "  feature_extractor_layer,\n",
    "  tf.keras.layers.Dense(num_classes)\n",
    "])\n",
    "\n",
    "model.summary()"
   ]
  },
  {
   "cell_type": "code",
   "execution_count": 12,
   "metadata": {
    "execution": {
     "iopub.execute_input": "2021-06-22T01:23:30.274894Z",
     "iopub.status.busy": "2021-06-22T01:23:30.274311Z",
     "iopub.status.idle": "2021-06-22T01:23:30.288119Z",
     "shell.execute_reply": "2021-06-22T01:23:30.288496Z"
    },
    "id": "IyhX4VCFmzVS"
   },
   "outputs": [],
   "source": [
    "predictions = model(image_batch)"
   ]
  },
  {
   "cell_type": "code",
   "execution_count": 13,
   "metadata": {
    "execution": {
     "iopub.execute_input": "2021-06-22T01:23:30.292623Z",
     "iopub.status.busy": "2021-06-22T01:23:30.291972Z",
     "iopub.status.idle": "2021-06-22T01:23:30.294218Z",
     "shell.execute_reply": "2021-06-22T01:23:30.294559Z"
    },
    "id": "FQdUaTkzm3jQ"
   },
   "outputs": [
    {
     "data": {
      "text/plain": [
       "TensorShape([32, 7])"
      ]
     },
     "execution_count": 13,
     "metadata": {},
     "output_type": "execute_result"
    }
   ],
   "source": [
    "predictions.shape"
   ]
  },
  {
   "cell_type": "markdown",
   "metadata": {
    "id": "OHbXQqIquFxQ"
   },
   "source": [
    "### Train the model\n",
    "\n",
    "Use compile to configure the training process:"
   ]
  },
  {
   "cell_type": "code",
   "execution_count": 14,
   "metadata": {
    "execution": {
     "iopub.execute_input": "2021-06-22T01:23:30.301403Z",
     "iopub.status.busy": "2021-06-22T01:23:30.300801Z",
     "iopub.status.idle": "2021-06-22T01:23:30.306671Z",
     "shell.execute_reply": "2021-06-22T01:23:30.307092Z"
    },
    "id": "4xRx8Rjzm67O"
   },
   "outputs": [],
   "source": [
    "model.compile(\n",
    "  optimizer=tf.keras.optimizers.Adam(),\n",
    "  loss=tf.keras.losses.SparseCategoricalCrossentropy(from_logits=True),\n",
    "  metrics=['acc'])"
   ]
  },
  {
   "cell_type": "markdown",
   "metadata": {
    "id": "58-BLV7dupJA"
   },
   "source": [
    "Now use the `.fit` method to train the model.\n",
    "\n",
    "To keep this example short train just 2 epochs. To visualize the training progress, use a custom callback to log the loss and accuracy of each batch individually, instead of the epoch average."
   ]
  },
  {
   "cell_type": "code",
   "execution_count": 15,
   "metadata": {
    "execution": {
     "iopub.execute_input": "2021-06-22T01:23:30.311993Z",
     "iopub.status.busy": "2021-06-22T01:23:30.311228Z",
     "iopub.status.idle": "2021-06-22T01:23:36.225172Z",
     "shell.execute_reply": "2021-06-22T01:23:36.224663Z"
    },
    "id": "JI0yAKd-nARd"
   },
   "outputs": [
    {
     "name": "stdout",
     "output_type": "stream",
     "text": [
      "Epoch 1/5\n",
      "34/34 [==============================] - 6s 100ms/step - loss: 0.5126 - acc: 0.9000\n",
      "Epoch 2/5\n",
      "34/34 [==============================] - 3s 75ms/step - loss: 0.1798 - acc: 1.0000\n",
      "Epoch 3/5\n",
      "34/34 [==============================] - 3s 76ms/step - loss: 0.1036 - acc: 1.0000\n",
      "Epoch 4/5\n",
      "34/34 [==============================] - 3s 75ms/step - loss: 0.0480 - acc: 1.0000\n",
      "Epoch 5/5\n",
      "34/34 [==============================] - 3s 75ms/step - loss: 0.0631 - acc: 1.0000\n"
     ]
    }
   ],
   "source": [
    "class CollectBatchStats(tf.keras.callbacks.Callback):\n",
    "  def __init__(self):\n",
    "    self.batch_losses = []\n",
    "    self.batch_acc = []\n",
    "\n",
    "  def on_train_batch_end(self, batch, logs=None):\n",
    "    self.batch_losses.append(logs['loss'])\n",
    "    self.batch_acc.append(logs['acc'])\n",
    "    self.model.reset_metrics()\n",
    "\n",
    "batch_stats_callback = CollectBatchStats()\n",
    "\n",
    "history = model.fit(train_ds, epochs=5,\n",
    "                    callbacks=[batch_stats_callback])"
   ]
  },
  {
   "cell_type": "markdown",
   "metadata": {
    "id": "Kd0N272B9Q0b"
   },
   "source": [
    "Now after, even just a few training iterations, we can already see that the model is making progress on the task."
   ]
  },
  {
   "cell_type": "code",
   "execution_count": 16,
   "metadata": {
    "execution": {
     "iopub.execute_input": "2021-06-22T01:23:36.247306Z",
     "iopub.status.busy": "2021-06-22T01:23:36.241969Z",
     "iopub.status.idle": "2021-06-22T01:23:36.349258Z",
     "shell.execute_reply": "2021-06-22T01:23:36.348661Z"
    },
    "id": "A5RfS1QIIP-P"
   },
   "outputs": [
    {
     "data": {
      "text/plain": [
       "[<matplotlib.lines.Line2D at 0x22217e54e20>]"
      ]
     },
     "execution_count": 16,
     "metadata": {},
     "output_type": "execute_result"
    },
    {
     "data": {
      "image/png": "[encoded data removed]",
      "text/plain": [
       "<Figure size 432x288 with 1 Axes>"
      ]
     },
     "metadata": {
      "needs_background": "light"
     },
     "output_type": "display_data"
    }
   ],
   "source": [
    "plt.figure()\n",
    "plt.ylabel(\"Loss\")\n",
    "plt.xlabel(\"Training Steps\")\n",
    "plt.ylim([0,2])\n",
    "plt.plot(batch_stats_callback.batch_losses)"
   ]
  },
  {
   "cell_type": "code",
   "execution_count": 17,
   "metadata": {
    "execution": {
     "iopub.execute_input": "2021-06-22T01:23:36.370414Z",
     "iopub.status.busy": "2021-06-22T01:23:36.369520Z",
     "iopub.status.idle": "2021-06-22T01:23:36.465152Z",
     "shell.execute_reply": "2021-06-22T01:23:36.464690Z"
    },
    "id": "3uvX11avTiDg"
   },
   "outputs": [
    {
     "data": {
      "text/plain": [
       "[<matplotlib.lines.Line2D at 0x22217f4c6d0>]"
      ]
     },
     "execution_count": 17,
     "metadata": {},
     "output_type": "execute_result"
    },
    {
     "data": {
      "image/png": "[encoded data removed]",
      "text/plain": [
       "<Figure size 432x288 with 1 Axes>"
      ]
     },
     "metadata": {
      "needs_background": "light"
     },
     "output_type": "display_data"
    }
   ],
   "source": [
    "plt.figure()\n",
    "plt.ylabel(\"Accuracy\")\n",
    "plt.xlabel(\"Training Steps\")\n",
    "plt.ylim([0,1])\n",
    "plt.plot(batch_stats_callback.batch_acc)"
   ]
  },
  {
   "cell_type": "markdown",
   "metadata": {
    "id": "kb__ZN8uFn-D"
   },
   "source": [
    "### Check the predictions\n",
    "\n",
    "To redo the plot from before, first get the ordered list of class names:"
   ]
  },
  {
   "cell_type": "code",
   "execution_count": 18,
   "metadata": {
    "execution": {
     "iopub.execute_input": "2021-06-22T01:23:36.469062Z",
     "iopub.status.busy": "2021-06-22T01:23:36.468526Z",
     "iopub.status.idle": "2021-06-22T01:23:36.953569Z",
     "shell.execute_reply": "2021-06-22T01:23:36.953944Z"
    },
    "id": "JGbEf5l1I4jz"
   },
   "outputs": [
    {
     "name": "stdout",
     "output_type": "stream",
     "text": [
      "Prediction Scores\n",
      "---------------------------\n",
      "[[-3.9731321e+00 -3.8955805e+00 -1.8775160e+00  4.1030121e+00\n",
      "  -3.1175940e+00 -2.1376390e+00 -1.9041350e+00]\n",
      " [-1.6317577e+00 -3.7468371e+00 -7.1628505e-01 -1.2146487e+00\n",
      "  -3.7465189e+00 -6.6263634e-01  2.6774402e+00]\n",
      " [ 3.9859405e+00 -9.7716528e-01 -2.7572997e+00 -1.7443810e+00\n",
      "  -4.6777275e-01 -5.7095844e-01 -1.9268939e+00]\n",
      " [-3.7629955e+00 -2.0024416e+00 -1.7729466e+00  2.7562382e+00\n",
      "  -5.1106367e+00 -7.9330713e-01 -2.0542979e+00]\n",
      " [-2.4529110e-01  3.1892798e+00 -1.6694974e+00 -1.6403352e+00\n",
      "  -1.5836923e+00 -1.9429283e+00 -1.4020438e+00]\n",
      " [-1.8457627e+00 -4.0893974e+00 -1.6142840e+00 -1.5510254e+00\n",
      "   3.6569800e+00 -3.0509341e+00 -2.2681499e+00]\n",
      " [-4.7055473e+00 -4.8669190e+00 -1.1638227e+00  4.2632804e+00\n",
      "  -2.6954775e+00 -1.8982084e+00 -3.1191745e+00]\n",
      " [-3.5310588e+00 -3.5352163e+00 -1.0242506e+00  6.2877733e-01\n",
      "  -4.7765069e+00  3.2068589e+00 -5.0707513e-01]\n",
      " [-3.6204751e+00 -1.2334585e+00 -2.1149616e+00 -1.5692626e-01\n",
      "  -4.7619734e+00  2.6288927e+00 -1.3909501e+00]\n",
      " [-6.4906776e-01 -3.1809111e+00 -1.6999400e+00 -1.6977069e+00\n",
      "   3.4016976e+00 -7.5794709e-01 -1.7386878e+00]\n",
      " [-4.8920655e+00 -3.8220916e+00 -1.1104982e+00  3.3996880e+00\n",
      "  -3.8188679e+00 -2.4543533e+00 -1.6945837e+00]\n",
      " [-2.9968648e+00 -5.2088461e+00 -1.6665803e+00  2.2863243e+00\n",
      "  -1.0400740e+00 -1.5222977e+00 -2.1853256e+00]\n",
      " [-4.2138367e+00 -3.9647367e+00 -1.4634221e+00  3.9683089e+00\n",
      "  -2.6954925e+00 -2.6000931e+00 -3.3510215e+00]\n",
      " [-6.2044506e+00 -4.2574582e+00  3.8930733e+00  1.9714825e-01\n",
      "  -3.2601299e+00 -3.6846836e+00 -2.2918651e+00]\n",
      " [-4.5038252e+00 -3.0920753e+00 -6.6382384e-01  3.2718737e+00\n",
      "  -2.9560084e+00 -3.6736090e+00 -2.6026518e+00]\n",
      " [-4.4165154e+00 -3.9919021e+00  2.7460887e+00  2.9849887e-01\n",
      "  -2.3991220e+00 -2.8086784e+00 -3.2346554e+00]\n",
      " [-2.7243266e+00 -3.1057074e+00 -1.9537227e+00 -1.0298015e+00\n",
      "  -9.8236436e-01  3.8083546e+00 -1.3332961e+00]\n",
      " [-4.2047911e+00 -3.8858678e+00 -7.8489721e-01  3.4210863e+00\n",
      "  -3.6791434e+00 -1.8786640e+00 -2.7666168e+00]\n",
      " [-4.3995996e+00 -3.9170973e+00 -3.1497672e-01  2.8352439e-04\n",
      "  -3.0387130e+00 -6.0457754e-01  4.6788964e+00]\n",
      " [-3.1582851e+00 -3.5374975e+00 -2.6317997e+00 -1.2698488e+00\n",
      "  -2.2162659e+00 -1.2667458e+00  4.0698643e+00]\n",
      " [-2.9585774e+00 -2.7630646e+00  4.5611458e+00 -1.0062786e+00\n",
      "  -2.2220960e+00 -2.7296565e+00 -2.4996974e+00]\n",
      " [-5.7825148e-01 -2.9598296e+00 -1.3960648e+00 -1.3292538e+00\n",
      "   5.3765850e+00 -2.2701929e+00 -3.6669989e+00]\n",
      " [-6.4394313e-01 -4.4242125e+00 -2.3416002e+00 -1.2133422e+00\n",
      "   6.0189586e+00 -2.7514937e+00 -3.5695062e+00]\n",
      " [-3.8112783e+00 -4.0676079e+00 -2.3626785e+00  4.2807970e+00\n",
      "  -4.0739188e+00 -1.7141891e+00 -2.3162675e+00]\n",
      " [-3.7853324e+00 -1.7537954e+00  2.7075615e+00 -7.9076397e-01\n",
      "  -5.2481742e+00 -1.9260186e+00  1.0102477e+00]\n",
      " [-4.3194361e+00 -2.7796137e+00 -1.0196772e+00  4.0204689e-02\n",
      "  -3.7353845e+00 -8.9662343e-01  4.1376858e+00]\n",
      " [-3.6374862e+00 -2.7087092e+00 -6.3811427e-01  5.2772623e-01\n",
      "  -4.5806370e+00  2.6380332e+00 -5.7343203e-01]\n",
      " [-4.4614968e+00 -5.0192013e+00 -3.0862708e+00  5.0894136e+00\n",
      "  -2.8699918e+00 -3.2581003e+00 -3.0242667e+00]\n",
      " [-1.4484397e+00 -6.5913925e+00 -2.3639994e+00  3.7284868e+00\n",
      "  -1.1334441e-01 -2.1536868e+00 -3.7338021e+00]\n",
      " [-3.7383311e+00 -2.7994828e+00 -1.2306663e+00 -1.2403475e-01\n",
      "  -3.7508285e+00  2.3565404e+00 -1.0338529e+00]\n",
      " [-3.6702356e+00 -2.9695406e+00 -1.9995110e+00  4.2305989e+00\n",
      "  -3.1474359e+00 -2.1397188e+00 -2.8190842e+00]\n",
      " [-7.2212286e+00 -6.2915092e+00  1.6511104e-01  3.2654803e+00\n",
      "  -3.1464226e+00 -2.5721867e+00 -3.2489805e+00]]\n"
     ]
    }
   ],
   "source": [
    "predicted_batch = model.predict(image_batch)\n",
    "print(\"Prediction Scores\")\n",
    "print(\"---------------------------\")\n",
    "print(predicted_batch)\n",
    "predicted_id = np.argmax(predicted_batch, axis=-1)\n",
    "predicted_label_batch = class_names[predicted_id]"
   ]
  },
  {
   "cell_type": "code",
   "execution_count": 19,
   "metadata": {},
   "outputs": [
    {
     "data": {
      "text/plain": [
       "<tf.Tensor: shape=(32, 7), dtype=float32, numpy=\n",
       "array([[3.08303745e-04, 3.33164819e-04, 2.50664796e-03, 9.91753221e-01,\n",
       "        7.25327816e-04, 1.93251681e-03, 2.44080392e-03],\n",
       "       [1.21546192e-02, 1.46613538e-03, 3.03617027e-02, 1.84454620e-02,\n",
       "        1.46660244e-03, 3.20350565e-02, 9.04070377e-01],\n",
       "       [9.65017736e-01, 6.74661435e-03, 1.13758340e-03, 3.13248020e-03,\n",
       "        1.12282522e-02, 1.01274289e-02, 2.60990113e-03],\n",
       "       [1.39381038e-03, 8.10592342e-03, 1.01969661e-02, 9.45085168e-01,\n",
       "        3.62185150e-04, 2.71595791e-02, 7.69629236e-03],\n",
       "       [3.00602689e-02, 9.32412326e-01, 7.23549025e-03, 7.44959759e-03,\n",
       "        7.88374525e-03, 5.50450711e-03, 9.45412647e-03],\n",
       "       [3.99954570e-03, 4.24240832e-04, 5.04127750e-03, 5.37048420e-03,\n",
       "        9.81344461e-01, 1.19842612e-03, 2.62162299e-03],\n",
       "       [1.26267638e-04, 1.07450738e-04, 4.35957080e-03, 9.91755605e-01,\n",
       "        9.42441693e-04, 2.09172326e-03, 6.16943289e-04],\n",
       "       [1.06046163e-03, 1.05606241e-03, 1.30073251e-02, 6.79342747e-02,\n",
       "        3.05213471e-04, 8.94819677e-01, 2.18169745e-02],\n",
       "       [1.73726398e-03, 1.89031400e-02, 7.82892015e-03, 5.54709956e-02,\n",
       "        5.54778031e-04, 8.99356186e-01, 1.61486510e-02],\n",
       "       [1.65414587e-02, 1.31525006e-03, 5.78343403e-03, 5.79636544e-03,\n",
       "        9.50164795e-01, 1.48350243e-02, 5.56362420e-03],\n",
       "       [2.45250121e-04, 7.14978552e-04, 1.07627474e-02, 9.78750825e-01,\n",
       "        7.17287301e-04, 2.80733593e-03, 6.00147573e-03],\n",
       "       [4.63852519e-03, 5.07841818e-04, 1.75434500e-02, 9.13775921e-01,\n",
       "        3.28248888e-02, 2.02663820e-02, 1.04430355e-02],\n",
       "       [2.77284067e-04, 3.55719763e-04, 4.33925213e-03, 9.91712570e-01,\n",
       "        1.26570859e-03, 1.39240315e-03, 6.57114550e-04],\n",
       "       [4.00399258e-05, 2.80582841e-04, 9.72281694e-01, 2.41363887e-02,\n",
       "        7.60668656e-04, 4.97524044e-04, 2.00312235e-03],\n",
       "       [4.08609514e-04, 1.67657761e-03, 1.90107729e-02, 9.73310709e-01,\n",
       "        1.92095223e-03, 9.37274250e-04, 2.73512700e-03],\n",
       "       [7.04137434e-04, 1.07662566e-03, 9.08525169e-01, 7.85890818e-02,\n",
       "        5.29419957e-03, 3.51505587e-03, 2.29579280e-03],\n",
       "       [1.41592091e-03, 9.66957770e-04, 3.05990619e-03, 7.70835951e-03,\n",
       "        8.08283500e-03, 9.73075449e-01, 5.69057325e-03],\n",
       "       [4.76266810e-04, 6.55174197e-04, 1.45576503e-02, 9.76622581e-01,\n",
       "        8.05630989e-04, 4.87612095e-03, 2.00651074e-03],\n",
       "       [1.11649089e-04, 1.80885239e-04, 6.63413573e-03, 9.09285340e-03,\n",
       "        4.35392256e-04, 4.96606342e-03, 9.78578985e-01],\n",
       "       [7.15895614e-04, 4.89959144e-04, 1.21199118e-03, 4.73137293e-03,\n",
       "        1.83638430e-03, 4.74607805e-03, 9.86268401e-01],\n",
       "       [5.38142165e-04, 6.54345495e-04, 9.92364407e-01, 3.79113737e-03,\n",
       "        1.12394930e-03, 6.76575233e-04, 8.51502293e-04],\n",
       "       [2.57832161e-03, 2.38248904e-04, 1.13806012e-03, 1.21669273e-03,\n",
       "        9.94236410e-01, 4.74827801e-04, 1.17465701e-04],\n",
       "       [1.27426488e-03, 2.90743410e-05, 2.33333340e-04, 7.21062534e-04,\n",
       "        9.97519135e-01, 1.54868161e-04, 6.83445542e-05],\n",
       "       [3.04148649e-04, 2.35376676e-04, 1.29480625e-03, 9.94098902e-01,\n",
       "        2.33896004e-04, 2.47651082e-03, 1.35631603e-03],\n",
       "       [1.22449978e-03, 9.33778845e-03, 8.08698833e-01, 2.44615190e-02,\n",
       "        2.83566391e-04, 7.86047056e-03, 1.48133337e-01],\n",
       "       [2.06103359e-04, 9.61217098e-04, 5.58665860e-03, 1.61232613e-02,\n",
       "        3.69602931e-04, 6.31820364e-03, 9.70434904e-01],\n",
       "       [1.55953539e-03, 3.94782471e-03, 3.13044414e-02, 1.00444004e-01,\n",
       "        6.07281632e-04, 8.28740716e-01, 3.33962031e-02],\n",
       "       [7.10455643e-05, 4.06751533e-05, 2.81054439e-04, 9.98722613e-01,\n",
       "        3.48914531e-04, 2.36682172e-04, 2.99032574e-04],\n",
       "       [5.46628004e-03, 3.19253631e-05, 2.18811096e-03, 9.68283534e-01,\n",
       "        2.07738243e-02, 2.70026899e-03, 5.56124083e-04],\n",
       "       [1.95133523e-03, 4.98963287e-03, 2.39550360e-02, 7.24437386e-02,\n",
       "        1.92710035e-03, 8.65567565e-01, 2.91656666e-02],\n",
       "       [3.68118723e-04, 7.41815544e-04, 1.95692549e-03, 9.93749142e-01,\n",
       "        6.20922016e-04, 1.70091668e-03, 8.62260116e-04],\n",
       "       [2.65464896e-05, 6.72634196e-05, 4.28404063e-02, 9.51320350e-01,\n",
       "        1.56197022e-03, 2.77370471e-03, 1.40971888e-03]], dtype=float32)>"
      ]
     },
     "execution_count": 19,
     "metadata": {},
     "output_type": "execute_result"
    }
   ],
   "source": [
    "# convert to probability\n",
    "predicted_p = tf.nn.softmax(predicted_batch)\n",
    "predicted_p"
   ]
  },
  {
   "cell_type": "code",
   "execution_count": 20,
   "metadata": {},
   "outputs": [],
   "source": [
    "# Decode prediction\n",
    "#decode_predictions = tf.keras.applications.mobilenet_v2.decode_predictions(predicted_batch, top=2)\n",
    "#decode_predictions"
   ]
  },
  {
   "cell_type": "markdown",
   "metadata": {
    "id": "CkGbZxl9GZs-"
   },
   "source": [
    "Plot the result"
   ]
  },
  {
   "cell_type": "code",
   "execution_count": 21,
   "metadata": {
    "execution": {
     "iopub.execute_input": "2021-06-22T01:23:36.974638Z",
     "iopub.status.busy": "2021-06-22T01:23:36.974020Z",
     "iopub.status.idle": "2021-06-22T01:23:38.312746Z",
     "shell.execute_reply": "2021-06-22T01:23:38.313215Z"
    },
    "id": "hW3Ic_ZlwtrZ"
   },
   "outputs": [
    {
     "data": {
      "image/png": "[encoded data removed]",
      "text/plain": [
       "<Figure size 360x288 with 30 Axes>"
      ]
     },
     "metadata": {
      "needs_background": "light"
     },
     "output_type": "display_data"
    }
   ],
   "source": [
    "\n",
    "plt.figure(figsize=(5,4\n",
    "                   ))\n",
    "plt.subplots_adjust(hspace=0.5)\n",
    "for n in range(30):\n",
    "  plt.subplot(6,5,n+1)\n",
    "  plt.imshow(image_batch[n], interpolation=\"sinc\")\n",
    "  plt.title(predicted_label_batch[n].title())\n",
    "  plt.axis('off')\n",
    "_ = plt.suptitle(\"Model predictions\")"
   ]
  },
  {
   "cell_type": "markdown",
   "metadata": {
    "id": "uRcJnAABr22x"
   },
   "source": [
    "## Export your model\n",
    "\n",
    "Now that you've trained the model, export it as a SavedModel for use later on."
   ]
  },
  {
   "cell_type": "code",
   "execution_count": 25,
   "metadata": {
    "execution": {
     "iopub.execute_input": "2021-06-22T01:23:38.321197Z",
     "iopub.status.busy": "2021-06-22T01:23:38.318655Z",
     "iopub.status.idle": "2021-06-22T01:23:42.434912Z",
     "shell.execute_reply": "2021-06-22T01:23:42.435280Z"
    },
    "id": "PLcqg-RmsLno"
   },
   "outputs": [
    {
     "name": "stdout",
     "output_type": "stream",
     "text": [
      "INFO:tensorflow:Assets written to: C:/tmp/saved_models/ahs-1\\assets\n"
     ]
    },
    {
     "name": "stderr",
     "output_type": "stream",
     "text": [
      "INFO:tensorflow:Assets written to: C:/tmp/saved_models/ahs-1\\assets\n"
     ]
    },
    {
     "data": {
      "text/plain": [
       "'C:/tmp/saved_models/ahs-1'"
      ]
     },
     "execution_count": 25,
     "metadata": {},
     "output_type": "execute_result"
    }
   ],
   "source": [
    "t = time.time()\n",
    "\n",
    "export_path = \"C:/tmp/saved_models/ahs-1\"\n",
    "model.save(export_path)\n",
    "\n",
    "export_path"
   ]
  },
  {
   "cell_type": "markdown",
   "metadata": {
    "id": "AhQ9liIUsPsi"
   },
   "source": [
    "Now confirm that we can reload it, and it still gives the same results:"
   ]
  },
  {
   "cell_type": "code",
   "execution_count": 27,
   "metadata": {
    "execution": {
     "iopub.execute_input": "2021-06-22T01:23:42.442761Z",
     "iopub.status.busy": "2021-06-22T01:23:42.442085Z",
     "iopub.status.idle": "2021-06-22T01:23:45.097809Z",
     "shell.execute_reply": "2021-06-22T01:23:45.097258Z"
    },
    "id": "7nI5fvkAQvbS"
   },
   "outputs": [
    {
     "name": "stdout",
     "output_type": "stream",
     "text": [
      "Model: \"sequential\"\n",
      "_________________________________________________________________\n",
      "Layer (type)                 Output Shape              Param #   \n",
      "=================================================================\n",
      "keras_layer (KerasLayer)     (None, 1280)              2257984   \n",
      "_________________________________________________________________\n",
      "dense (Dense)                (None, 2)                 2562      \n",
      "=================================================================\n",
      "Total params: 2,260,546\n",
      "Trainable params: 2,562\n",
      "Non-trainable params: 2,257,984\n",
      "_________________________________________________________________\n"
     ]
    }
   ],
   "source": [
    "new_model = tf.keras.models.load_model(export_path)\n",
    "new_model.summary()"
   ]
  },
  {
   "cell_type": "code",
   "execution_count": 41,
   "metadata": {
    "execution": {
     "iopub.execute_input": "2021-06-22T01:23:45.114940Z",
     "iopub.status.busy": "2021-06-22T01:23:45.114313Z",
     "iopub.status.idle": "2021-06-22T01:23:45.706482Z",
     "shell.execute_reply": "2021-06-22T01:23:45.706908Z"
    },
    "id": "jor83-LqI8xW"
   },
   "outputs": [
    {
     "data": {
      "text/plain": [
       "'no'"
      ]
     },
     "execution_count": 41,
     "metadata": {},
     "output_type": "execute_result"
    }
   ],
   "source": [
    "\n",
    "IMAGE_SHAPE = (224, 224)\n",
    "image_file = 'C:/Work/LexisNexis/HPCC/2021/intern/gnn-cloud/images/test/x100002.bmp'\n",
    "x100002 = Image.open(image_file).resize(IMAGE_SHAPE)\n",
    "x100002 = np.array(x100002)/255.0\n",
    "x100002.shape\n",
    "result = model.predict(x100002[np.newaxis, ...])\n",
    "result.shape\n",
    "predicted_class = np.argmax(result[0], axis=-1)\n",
    "#index 0 is 'no' and index 1 is 'yes'\n",
    "class_names[predicted_class]\n",
    "\n"
   ]
  },
  {
   "cell_type": "code",
   "execution_count": 42,
   "metadata": {},
   "outputs": [
    {
     "data": {
      "text/plain": [
       "'yes'"
      ]
     },
     "execution_count": 42,
     "metadata": {},
     "output_type": "execute_result"
    }
   ],
   "source": [
    "image_file = 'C:/Work/LexisNexis/HPCC/2021/intern/gnn-cloud/images/test/s12345600125.bmp'\n",
    "s123456 = Image.open(image_file).resize(IMAGE_SHAPE)\n",
    "s123456 = np.array(s123456)/255.0\n",
    "s123456.shape\n",
    "result = model.predict(s123456[np.newaxis, ...])\n",
    "result.shape\n",
    "predicted_class = np.argmax(result[0], axis=-1)\n",
    "#index 0 is 'no' and index 1 is 'yes'\n",
    "class_names[predicted_class]"
   ]
  },
  {
   "cell_type": "markdown",
   "metadata": {
    "id": "TYZd4MNiV3Rc"
   },
   "source": [
    "This SavedModel can be loaded for inference later, or converted to [TFLite](https://www.tensorflow.org/lite/convert/) or [TFjs](https://github.com/tensorflow/tfjs-converter).\n"
   ]
  },
  {
   "cell_type": "markdown",
   "metadata": {
    "id": "mSBRrW-MqBbk"
   },
   "source": [
    "## Learn more\n",
    "\n",
    "Check out more [tutorials](https://www.tensorflow.org/hub/tutorials) for using image models from TensorFlow Hub."
   ]
  },
  {
   "cell_type": "code",
   "execution_count": null,
   "metadata": {},
   "outputs": [],
   "source": []
  }
 ],
 "metadata": {
  "accelerator": "GPU",
  "colab": {
   "collapsed_sections": [
    "W_tvPdyfA-BL"
   ],
   "name": "transfer_learning_with_hub.ipynb",
   "toc_visible": true
  },
  "kernelspec": {
   "display_name": "Python 3",
   "language": "python",
   "name": "python3"
  },
  "language_info": {
   "codemirror_mode": {
    "name": "ipython",
    "version": 3
   },
   "file_extension": ".py",
   "mimetype": "text/x-python",
   "name": "python",
   "nbconvert_exporter": "python",
   "pygments_lexer": "ipython3",
   "version": "3.9.5"
  }
 },
 "nbformat": 4,
 "nbformat_minor": 1
}
